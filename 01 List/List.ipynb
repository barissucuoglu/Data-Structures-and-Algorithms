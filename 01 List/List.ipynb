{
 "cells": [
  {
   "cell_type": "markdown",
   "id": "6bd6e2a1-17b6-4f6c-bc11-8abeb022102e",
   "metadata": {},
   "source": [
    "# Contain Duplicate"
   ]
  },
  {
   "cell_type": "code",
   "execution_count": 2,
   "id": "15aaf59b-ec52-4228-81b6-ffbabf6b375a",
   "metadata": {},
   "outputs": [
    {
     "data": {
      "text/plain": [
       "True"
      ]
     },
     "execution_count": 2,
     "metadata": {},
     "output_type": "execute_result"
    }
   ],
   "source": [
    "def containDuplicate(array: []):\n",
    "    mySet = set()\n",
    "    for number in array:\n",
    "        if number in mySet:\n",
    "            return True\n",
    "        mySet.add(number)\n",
    "    return False\n",
    "\n",
    "nums = [1,2,3,4,5,1]\n",
    "containDuplicate(nums)"
   ]
  },
  {
   "cell_type": "markdown",
   "id": "ad78e69a-95d5-4009-b7d2-717cd827caa7",
   "metadata": {},
   "source": [
    "# Single Number"
   ]
  },
  {
   "cell_type": "code",
   "execution_count": 6,
   "id": "e034e3cc-131f-4cf6-901f-fed818fae1cc",
   "metadata": {},
   "outputs": [
    {
     "data": {
      "text/plain": [
       "4"
      ]
     },
     "execution_count": 6,
     "metadata": {},
     "output_type": "execute_result"
    }
   ],
   "source": [
    "def findSingleNumber(array: []):\n",
    "    result = 0\n",
    "\n",
    "    for number in array:\n",
    "        result = number ^ result\n",
    "    return result\n",
    "nums = [1,1,2,2,4]\n",
    "findSingleNumber(nums)"
   ]
  },
  {
   "cell_type": "code",
   "execution_count": null,
   "id": "36c4f4be-66ee-47b1-9004-5c1d2c646981",
   "metadata": {},
   "outputs": [],
   "source": []
  }
 ],
 "metadata": {
  "kernelspec": {
   "display_name": "Python 3 (ipykernel)",
   "language": "python",
   "name": "python3"
  },
  "language_info": {
   "codemirror_mode": {
    "name": "ipython",
    "version": 3
   },
   "file_extension": ".py",
   "mimetype": "text/x-python",
   "name": "python",
   "nbconvert_exporter": "python",
   "pygments_lexer": "ipython3",
   "version": "3.11.4"
  }
 },
 "nbformat": 4,
 "nbformat_minor": 5
}
