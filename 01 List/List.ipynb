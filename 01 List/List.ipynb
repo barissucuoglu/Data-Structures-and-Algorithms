{
 "cells": [
  {
   "cell_type": "markdown",
   "id": "6bd6e2a1-17b6-4f6c-bc11-8abeb022102e",
   "metadata": {},
   "source": [
    "# Contain Duplicate"
   ]
  },
  {
   "cell_type": "code",
   "execution_count": 1,
   "id": "15aaf59b-ec52-4228-81b6-ffbabf6b375a",
   "metadata": {},
   "outputs": [
    {
     "data": {
      "text/plain": [
       "True"
      ]
     },
     "execution_count": 1,
     "metadata": {},
     "output_type": "execute_result"
    }
   ],
   "source": [
    "def containDuplicate(array: []):\n",
    "    mySet = set()\n",
    "    for number in array:\n",
    "        if number in mySet:\n",
    "            return True\n",
    "        mySet.add(number)\n",
    "    return False\n",
    "\n",
    "nums = [1,2,3,4,5,1]\n",
    "containDuplicate(nums)"
   ]
  },
  {
   "cell_type": "markdown",
   "id": "ad78e69a-95d5-4009-b7d2-717cd827caa7",
   "metadata": {},
   "source": [
    "# Single Number"
   ]
  },
  {
   "cell_type": "code",
   "execution_count": 5,
   "id": "e034e3cc-131f-4cf6-901f-fed818fae1cc",
   "metadata": {},
   "outputs": [
    {
     "data": {
      "text/plain": [
       "4"
      ]
     },
     "execution_count": 5,
     "metadata": {},
     "output_type": "execute_result"
    }
   ],
   "source": [
    "def findSingleNumber(array: []):\n",
    "    result = 0\n",
    "\n",
    "    for number in array:\n",
    "        result = number ^ result\n",
    "    return result\n",
    "    \n",
    "nums = [1,1,2,2,4]\n",
    "findSingleNumber(nums)"
   ]
  },
  {
   "cell_type": "markdown",
   "id": "c1c5194c-fdd9-455f-8083-23d8e7509b70",
   "metadata": {},
   "source": [
    "# Majority Element"
   ]
  },
  {
   "cell_type": "code",
   "execution_count": 44,
   "id": "32c33cce-a7ff-4dab-afae-767633ffa9de",
   "metadata": {},
   "outputs": [
    {
     "name": "stdout",
     "output_type": "stream",
     "text": [
      "2\n"
     ]
    }
   ],
   "source": [
    "def majorityElement(arr: []):\n",
    "    seen = {}\n",
    "    limit = len(arr) / 2\n",
    "    for number in arr:\n",
    "        if number in seen:\n",
    "            seen[number] += 1\n",
    "            if seen[number] >= limit:\n",
    "                return number\n",
    "        else:\n",
    "            seen[number] = 1\n",
    "\n",
    "numbers = [2,2,1,1,1,2,2]\n",
    "print(majorityElement(numbers))"
   ]
  },
  {
   "cell_type": "code",
   "execution_count": null,
   "id": "ce636ef4-70ab-4df7-9f33-e2d60f96bc2b",
   "metadata": {},
   "outputs": [],
   "source": []
  },
  {
   "cell_type": "code",
   "execution_count": 31,
   "id": "7ef4c98a-8308-4154-9a2b-18966ad4ef00",
   "metadata": {},
   "outputs": [
    {
     "data": {
      "text/plain": [
       "2"
      ]
     },
     "execution_count": 31,
     "metadata": {},
     "output_type": "execute_result"
    }
   ],
   "source": [
    "seen[1] = 0\n",
    "seen[1] += 2\n",
    "seen[1]"
   ]
  },
  {
   "cell_type": "code",
   "execution_count": 55,
   "id": "44fa8068-ca2c-4b90-83dd-1d2f30a80e78",
   "metadata": {},
   "outputs": [],
   "source": [
    "    def majorityElement(nums):\n",
    "        \"\"\"\n",
    "        :type nums: List[int]\n",
    "        :rtype: int\n",
    "        \"\"\"\n",
    "        seen = {}\n",
    "        limit = len(nums) / 2\n",
    "        for number in nums:\n",
    "            if number in seen:\n",
    "                seen[number] += 1\n",
    "                if seen[number] >= limit:\n",
    "                    return number\n",
    "            else:\n",
    "                seen[number] = 1"
   ]
  },
  {
   "cell_type": "code",
   "execution_count": 56,
   "id": "70dc7558-4035-41c6-b709-4ff9e53ae068",
   "metadata": {},
   "outputs": [
    {
     "name": "stdout",
     "output_type": "stream",
     "text": [
      "2\n"
     ]
    }
   ],
   "source": [
    "numbers = [2,2,1,1,1,2,2]\n",
    "print(majorityElement(numbers))"
   ]
  },
  {
   "cell_type": "code",
   "execution_count": null,
   "id": "be1503d1-b147-411a-a078-3ce8101a9b37",
   "metadata": {},
   "outputs": [],
   "source": []
  },
  {
   "cell_type": "code",
   "execution_count": null,
   "id": "caad523e-004f-4104-a8b9-fb7468b58077",
   "metadata": {},
   "outputs": [],
   "source": []
  },
  {
   "cell_type": "code",
   "execution_count": null,
   "id": "dd56c884-b101-4b36-a15f-e3c67b27e604",
   "metadata": {},
   "outputs": [],
   "source": []
  },
  {
   "cell_type": "code",
   "execution_count": null,
   "id": "c03b9fb6-1377-4950-93d4-4b7640ebe8a0",
   "metadata": {},
   "outputs": [],
   "source": []
  },
  {
   "cell_type": "code",
   "execution_count": null,
   "id": "dcf2c661-e656-434a-9107-220e1cd51aa5",
   "metadata": {},
   "outputs": [],
   "source": []
  },
  {
   "cell_type": "code",
   "execution_count": null,
   "id": "bb5b93bf-28d2-4eb1-8f26-2acaf1d78d03",
   "metadata": {},
   "outputs": [],
   "source": []
  }
 ],
 "metadata": {
  "kernelspec": {
   "display_name": "Python 3 (ipykernel)",
   "language": "python",
   "name": "python3"
  },
  "language_info": {
   "codemirror_mode": {
    "name": "ipython",
    "version": 3
   },
   "file_extension": ".py",
   "mimetype": "text/x-python",
   "name": "python",
   "nbconvert_exporter": "python",
   "pygments_lexer": "ipython3",
   "version": "3.11.4"
  }
 },
 "nbformat": 4,
 "nbformat_minor": 5
}
