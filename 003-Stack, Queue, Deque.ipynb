{
 "cells": [
  {
   "cell_type": "markdown",
   "id": "614fec86-6b9a-4364-a386-f8ea223f79b5",
   "metadata": {},
   "source": [
    "# Stack\n",
    "## Last In First Out"
   ]
  },
  {
   "cell_type": "code",
   "execution_count": 11,
   "id": "06330cf4-f76a-4023-8f64-9cf2c5a83f4f",
   "metadata": {},
   "outputs": [],
   "source": [
    "class Node:\n",
    "    def __init__(self, data):\n",
    "        self.data = data\n",
    "        self.next = None\n",
    "\n",
    "class Stack:\n",
    "    def __init__(self):\n",
    "        self.top = None\n",
    "        self.bottom = None\n",
    "        self.length = 0\n",
    "\n",
    "    def peek(self):\n",
    "        if self.top is not None:\n",
    "            return self.top.data\n",
    "        return None\n",
    "\n",
    "    def peekaboo(self):\n",
    "        if self.bottom is not None:\n",
    "            return self.bottom.data\n",
    "        return None\n",
    "\n",
    "    def push(self, data):\n",
    "        new_node = Node(data)\n",
    "        if self.length == 0:\n",
    "            self.top = new_node\n",
    "            self.bottom = self.top\n",
    "            self.length = 1\n",
    "        else:\n",
    "            new_node.next = self.top\n",
    "            self.top = new_node\n",
    "            self.length += 1\n",
    "\n",
    "    def pop(self):\n",
    "        if not self.top:\n",
    "            return None\n",
    "        holder = self.top\n",
    "        self.top = self.top.next\n",
    "        self.length -= 1\n",
    "        if self.length == 0:\n",
    "            self.bottom = None\n",
    "        return holder.data\n",
    "\n",
    "    def pprint(self):\n",
    "        if self.top is None:\n",
    "            print(\"Stack is empty\")\n",
    "        else:\n",
    "            temp = self.top\n",
    "            while temp:\n",
    "                print(temp.data, end=\"->\")\n",
    "                temp = temp.next\n",
    "            print()"
   ]
  },
  {
   "cell_type": "code",
   "execution_count": 17,
   "id": "c71c1e40-6be8-4804-bb9b-e375b63a91e4",
   "metadata": {},
   "outputs": [
    {
     "name": "stdout",
     "output_type": "stream",
     "text": [
      "Discord->Udemy->Netflix->Google->\n",
      "Discord\n"
     ]
    }
   ],
   "source": [
    "my_stack = Stack()\n",
    "my_stack.push(\"Google\")\n",
    "my_stack.push(\"Netflix\")\n",
    "my_stack.push(\"Udemy\")\n",
    "my_stack.push(\"Discord\")\n",
    "my_stack.pprint()\n",
    "print(my_stack.peek())"
   ]
  },
  {
   "cell_type": "code",
   "execution_count": 16,
   "id": "7f188c65-bf1d-41c8-949c-f02fb1a93760",
   "metadata": {},
   "outputs": [
    {
     "name": "stdout",
     "output_type": "stream",
     "text": [
      "Google->\n",
      "Google\n"
     ]
    }
   ],
   "source": [
    "my_stack.pop()\n",
    "my_stack.pop()\n",
    "my_stack.pop()\n",
    "my_stack.pprint()\n",
    "print(my_stack.peek())"
   ]
  },
  {
   "cell_type": "markdown",
   "id": "dbc8065c-4360-44f7-a68d-8c108bac03a8",
   "metadata": {},
   "source": [
    "# Queue\n",
    "## First In First Out"
   ]
  },
  {
   "cell_type": "code",
   "execution_count": 25,
   "id": "352a268d-d7e5-491b-8a4e-5b75b4ce0925",
   "metadata": {},
   "outputs": [],
   "source": [
    "class Node:\n",
    "  def __init__(self, data):\n",
    "    self.data = data\n",
    "    self.next = None\n",
    "\n",
    "class Queue:\n",
    "  def __init__(self):\n",
    "    self.first = None\n",
    "    self.last = None\n",
    "    self.length = 0\n",
    "\n",
    "  def peek(self):\n",
    "    if self.first == None:\n",
    "      return None\n",
    "    return self.first.data\n",
    "\n",
    "  def enqueue(self, data):\n",
    "    new_node = Node(data)\n",
    "    if self.first == None:\n",
    "      self.first = new_node\n",
    "      self.last = self.first\n",
    "      self.length = 1\n",
    "    else:\n",
    "      self.last.next = new_node\n",
    "      self.last = new_node\n",
    "      self.length += 1\n",
    "\n",
    "  def dequeue(self):\n",
    "    holder = self.first\n",
    "    if self.last == None:\n",
    "      print(\"Empty Queue\")\n",
    "    if self.first == self.last:\n",
    "      self.last = None\n",
    "    self.first = self.first.next\n",
    "    self.length -= 1\n",
    "    return holder.data\n",
    "\n",
    "  def pprint(self):\n",
    "    temp = self.first\n",
    "    while temp != None:\n",
    "      print(temp.data, end=\"->\")\n",
    "      temp = temp.next\n",
    "      \n",
    "    print()"
   ]
  },
  {
   "cell_type": "code",
   "execution_count": 28,
   "id": "a67205ec-d853-457e-a21c-861c5c6182f9",
   "metadata": {},
   "outputs": [
    {
     "name": "stdout",
     "output_type": "stream",
     "text": [
      "Netflix->Google->Discord->Amazon->\n"
     ]
    }
   ],
   "source": [
    "queue = Queue()\n",
    "queue.enqueue(\"Netflix\")\n",
    "queue.enqueue(\"Google\")\n",
    "queue.enqueue(\"Discord\")\n",
    "queue.enqueue(\"Amazon\")\n",
    "queue.pprint() "
   ]
  },
  {
   "cell_type": "code",
   "execution_count": 29,
   "id": "beffc19b-9e8d-4bca-ad7f-bc4287c3362e",
   "metadata": {},
   "outputs": [
    {
     "name": "stdout",
     "output_type": "stream",
     "text": [
      "Netflix\n",
      "Google->Discord->Amazon->\n"
     ]
    }
   ],
   "source": [
    "x = queue.dequeue()\n",
    "print(x)\n",
    "queue.pprint() "
   ]
  },
  {
   "cell_type": "markdown",
   "id": "4f79d659-3b6d-4614-95bf-fc6d28d5056a",
   "metadata": {},
   "source": [
    "# Deque"
   ]
  },
  {
   "cell_type": "code",
   "execution_count": 31,
   "id": "069103ca-5860-4940-acd1-a255bdabb9e6",
   "metadata": {},
   "outputs": [],
   "source": [
    "class Node:\n",
    "    def __init__(self, data):\n",
    "        self.data = data\n",
    "        self.next = None\n",
    "        self.prev = None\n",
    "\n",
    "class Deque:\n",
    "    def __init__(self):\n",
    "        self.front = None\n",
    "        self.rear = None\n",
    "        self.length = 0\n",
    "\n",
    "    def is_empty(self):\n",
    "        return self.length == 0\n",
    "\n",
    "    def add_front(self, data):\n",
    "        new_node = Node(data)\n",
    "        if self.is_empty():\n",
    "            self.front = new_node\n",
    "            self.rear = new_node\n",
    "        else:\n",
    "            new_node.next = self.front\n",
    "            self.front.prev = new_node\n",
    "            self.front = new_node\n",
    "        self.length += 1\n",
    "\n",
    "    def add_rear(self, data):\n",
    "        new_node = Node(data)\n",
    "        if self.is_empty():\n",
    "            self.front = new_node\n",
    "            self.rear = new_node\n",
    "        else:\n",
    "            new_node.prev = self.rear\n",
    "            self.rear.next = new_node\n",
    "            self.rear = new_node\n",
    "        self.length += 1\n",
    "\n",
    "    def remove_front(self):\n",
    "        if self.is_empty():\n",
    "            return None\n",
    "        removed_data = self.front.data\n",
    "        self.front = self.front.next\n",
    "        if self.front is None:\n",
    "            self.rear = None\n",
    "        else:\n",
    "            self.front.prev = None\n",
    "        self.length -= 1\n",
    "        return removed_data\n",
    "\n",
    "    def remove_rear(self):\n",
    "        if self.is_empty():\n",
    "            return None\n",
    "        removed_data = self.rear.data\n",
    "        self.rear = self.rear.prev\n",
    "        if self.rear is None:\n",
    "            self.front = None\n",
    "        else:\n",
    "            self.rear.next = None\n",
    "        self.length -= 1\n",
    "        return removed_data\n",
    "\n",
    "    def peek_front(self):\n",
    "        if self.is_empty():\n",
    "            return None\n",
    "        return self.front.data\n",
    "\n",
    "    def peek_rear(self):\n",
    "        if self.is_empty():\n",
    "            return None\n",
    "        return self.rear.data\n",
    "\n",
    "    def pprint(self):\n",
    "        if self.is_empty():\n",
    "            print(\"Deque is empty\")\n",
    "        else:\n",
    "            temp = self.front\n",
    "            while temp:\n",
    "                print(temp.data, end=\"->\")\n",
    "                temp = temp.next\n",
    "            print()"
   ]
  },
  {
   "cell_type": "code",
   "execution_count": 35,
   "id": "cbdd853e-a9e1-4ccc-a0c2-b538670b4ef2",
   "metadata": {},
   "outputs": [
    {
     "name": "stdout",
     "output_type": "stream",
     "text": [
      "Discord->Google->Udemy->\n"
     ]
    }
   ],
   "source": [
    "my_deque = Deque()\n",
    "my_deque.add_rear(\"Google\")\n",
    "my_deque.add_rear(\"Udemy\")\n",
    "my_deque.add_front(\"Discord\")\n",
    "my_deque.pprint()\n",
    "#Should print: Discord->Google->Udemy->"
   ]
  },
  {
   "cell_type": "code",
   "execution_count": 33,
   "id": "174cd3ef-da4c-4712-aacc-f900bdcb1cc3",
   "metadata": {},
   "outputs": [
    {
     "name": "stdout",
     "output_type": "stream",
     "text": [
      "Discord\n",
      "Udemy\n",
      "Google->\n"
     ]
    }
   ],
   "source": [
    "print(my_deque.remove_front())  #Should print: Discord\n",
    "print(my_deque.remove_rear())   #Should print: Udemy\n",
    "my_deque.pprint()  \n",
    "# Should print: Google->"
   ]
  },
  {
   "cell_type": "code",
   "execution_count": null,
   "id": "484fbca4-62cb-4e3f-a73d-5fda0d08d91e",
   "metadata": {},
   "outputs": [],
   "source": []
  }
 ],
 "metadata": {
  "kernelspec": {
   "display_name": "Python 3 (ipykernel)",
   "language": "python",
   "name": "python3"
  },
  "language_info": {
   "codemirror_mode": {
    "name": "ipython",
    "version": 3
   },
   "file_extension": ".py",
   "mimetype": "text/x-python",
   "name": "python",
   "nbconvert_exporter": "python",
   "pygments_lexer": "ipython3",
   "version": "3.11.4"
  }
 },
 "nbformat": 4,
 "nbformat_minor": 5
}
