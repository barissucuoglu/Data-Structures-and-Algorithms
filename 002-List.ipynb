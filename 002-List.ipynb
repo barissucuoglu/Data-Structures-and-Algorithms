{
 "cells": [
  {
   "cell_type": "markdown",
   "id": "6bd6e2a1-17b6-4f6c-bc11-8abeb022102e",
   "metadata": {},
   "source": [
    "# Contain Duplicate"
   ]
  },
  {
   "cell_type": "code",
   "execution_count": 1,
   "id": "15aaf59b-ec52-4228-81b6-ffbabf6b375a",
   "metadata": {},
   "outputs": [
    {
     "data": {
      "text/plain": [
       "True"
      ]
     },
     "execution_count": 1,
     "metadata": {},
     "output_type": "execute_result"
    }
   ],
   "source": [
    "def containDuplicate(array: []):\n",
    "    mySet = set()\n",
    "    for number in array:\n",
    "        if number in mySet:\n",
    "            return True\n",
    "        mySet.add(number)\n",
    "    return False\n",
    "\n",
    "nums = [1,2,3,4,5,1]\n",
    "containDuplicate(nums)"
   ]
  },
  {
   "cell_type": "markdown",
   "id": "ad78e69a-95d5-4009-b7d2-717cd827caa7",
   "metadata": {},
   "source": [
    "# Single Number"
   ]
  },
  {
   "cell_type": "code",
   "execution_count": 5,
   "id": "e034e3cc-131f-4cf6-901f-fed818fae1cc",
   "metadata": {},
   "outputs": [
    {
     "data": {
      "text/plain": [
       "4"
      ]
     },
     "execution_count": 5,
     "metadata": {},
     "output_type": "execute_result"
    }
   ],
   "source": [
    "def findSingleNumber(array: []):\n",
    "    result = 0\n",
    "\n",
    "    for number in array:\n",
    "        result = number ^ result\n",
    "    return result\n",
    "    \n",
    "nums = [1,1,2,2,4]\n",
    "findSingleNumber(nums)"
   ]
  },
  {
   "cell_type": "markdown",
   "id": "c1c5194c-fdd9-455f-8083-23d8e7509b70",
   "metadata": {},
   "source": [
    "# Majority Element"
   ]
  },
  {
   "cell_type": "code",
   "execution_count": 1,
   "id": "32c33cce-a7ff-4dab-afae-767633ffa9de",
   "metadata": {},
   "outputs": [
    {
     "name": "stdout",
     "output_type": "stream",
     "text": [
      "2\n"
     ]
    }
   ],
   "source": [
    "def majorityElement(arr: []):\n",
    "    seen = {}\n",
    "    limit = len(arr) / 2\n",
    "    for number in arr:\n",
    "        if number in seen:\n",
    "            seen[number] += 1\n",
    "            if seen[number] >= limit:\n",
    "                return number\n",
    "        else:\n",
    "            seen[number] = 1\n",
    "\n",
    "numbers = [2,2,1,1,1,2,2]\n",
    "print(majorityElement(numbers))"
   ]
  },
  {
   "cell_type": "code",
   "execution_count": 4,
   "id": "ce636ef4-70ab-4df7-9f33-e2d60f96bc2b",
   "metadata": {},
   "outputs": [
    {
     "name": "stdout",
     "output_type": "stream",
     "text": [
      "2\n"
     ]
    }
   ],
   "source": [
    "def boyerMoore(arr: []):\n",
    "    result = 0\n",
    "    count = 0\n",
    "    \n",
    "    for num in arr:\n",
    "        if count == 0:\n",
    "            result = num\n",
    "        if num == result:\n",
    "            count += 1\n",
    "        else:\n",
    "            count -= 1\n",
    "    return result\n",
    "    \n",
    "numbers = [2,2,1,1,1,2,2]\n",
    "print(boyerMoore(numbers))"
   ]
  },
  {
   "cell_type": "code",
   "execution_count": 5,
   "id": "7ef4c98a-8308-4154-9a2b-18966ad4ef00",
   "metadata": {},
   "outputs": [
    {
     "name": "stdout",
     "output_type": "stream",
     "text": [
      "2\n"
     ]
    }
   ],
   "source": [
    "def boyerMoore(arr: []):\n",
    "    result = 0\n",
    "    count = 0\n",
    "\n",
    "    for num in arr:\n",
    "        if count == 0:\n",
    "            result = num\n",
    "        count += 1 if num == result else -1\n",
    "    return result\n",
    "\n",
    "numbers = [2,2,1,1,1,2,2]\n",
    "print(boyerMoore(numbers))"
   ]
  }
 ],
 "metadata": {
  "kernelspec": {
   "display_name": "Python 3 (ipykernel)",
   "language": "python",
   "name": "python3"
  },
  "language_info": {
   "codemirror_mode": {
    "name": "ipython",
    "version": 3
   },
   "file_extension": ".py",
   "mimetype": "text/x-python",
   "name": "python",
   "nbconvert_exporter": "python",
   "pygments_lexer": "ipython3",
   "version": "3.11.4"
  }
 },
 "nbformat": 4,
 "nbformat_minor": 5
}
