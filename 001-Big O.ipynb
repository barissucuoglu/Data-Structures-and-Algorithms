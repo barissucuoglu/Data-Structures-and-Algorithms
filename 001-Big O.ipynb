{
 "cells": [
  {
   "cell_type": "markdown",
   "id": "534e5073-90c0-4bc3-b6a6-0f5ec1332f53",
   "metadata": {},
   "source": [
    "# Big O() Notation -> O( )\n",
    "# Time Complexity - Space Complexity\n",
    "# https://www.bigocheatsheet.com/"
   ]
  },
  {
   "cell_type": "code",
   "execution_count": null,
   "id": "cf2b715b-be41-447b-aaf9-4f3425c42c80",
   "metadata": {},
   "outputs": [],
   "source": []
  }
 ],
 "metadata": {
  "kernelspec": {
   "display_name": "Python 3 (ipykernel)",
   "language": "python",
   "name": "python3"
  },
  "language_info": {
   "codemirror_mode": {
    "name": "ipython",
    "version": 3
   },
   "file_extension": ".py",
   "mimetype": "text/x-python",
   "name": "python",
   "nbconvert_exporter": "python",
   "pygments_lexer": "ipython3",
   "version": "3.11.4"
  }
 },
 "nbformat": 4,
 "nbformat_minor": 5
}
